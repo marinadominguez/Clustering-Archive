{
 "cells": [
  {
   "cell_type": "code",
   "execution_count": 3,
   "metadata": {},
   "outputs": [
    {
     "name": "stderr",
     "output_type": "stream",
     "text": [
      "[nltk_data] Downloading package punkt to\n",
      "[nltk_data]     /Users/mihailtereskin/nltk_data...\n",
      "[nltk_data]   Package punkt is already up-to-date!\n"
     ]
    },
    {
     "data": {
      "text/plain": [
       "True"
      ]
     },
     "execution_count": 3,
     "metadata": {},
     "output_type": "execute_result"
    }
   ],
   "source": [
    "import arxiv\n",
    "from sentence_transformers import SentenceTransformer\n",
    "import umap\n",
    "import nltk\n",
    "nltk.download('punkt')"
   ]
  },
  {
   "cell_type": "code",
   "execution_count": 4,
   "metadata": {},
   "outputs": [],
   "source": [
    "import urllib, urllib.request\n",
    "from bs4 import BeautifulSoup\n",
    "url = 'https://export.arxiv.org/api/query?search_query=au:robert+koenig&cat:quant-ph&start=0&max_results=59'\n",
    "with urllib.request.urlopen(url) as response:\n",
    "    soup = BeautifulSoup(response, \"lxml\")\n",
    "    "
   ]
  },
  {
   "cell_type": "code",
   "execution_count": 5,
   "metadata": {},
   "outputs": [
    {
     "data": {
      "text/plain": [
       "'Locking of accessible information and implications for the security of\\n  quantum cryptography'"
      ]
     },
     "execution_count": 5,
     "metadata": {},
     "output_type": "execute_result"
    }
   ],
   "source": [
    "titles = soup.find_all('title')\n",
    "titles = list(map(lambda x:x.text, titles))\n",
    "del titles[0]\n",
    "\n",
    "titles[-1]"
   ]
  },
  {
   "cell_type": "code",
   "execution_count": 6,
   "metadata": {},
   "outputs": [
    {
     "data": {
      "text/plain": [
       "\"  The unconditional security of a quantum key distribution protocol is often\\ndefined in terms of the accessible information, that is, the maximum mutual\\ninformation between the distributed key S and the outcome of an optimal\\nmeasurement on the adversary's (quantum) system. We show that, even if this\\nquantity is small, certain parts of the key S might still be completely\\ninsecure when S is used in applications, such as for one-time pad encryption.\\nThis flaw is due to a locking property of the accessible information: one\\nadditional (physical) bit of information might increase the accessible\\ninformation by more than one bit.\\n\""
      ]
     },
     "execution_count": 6,
     "metadata": {},
     "output_type": "execute_result"
    }
   ],
   "source": [
    "summaries = soup.find_all('summary')\n",
    "summaries = list(map(lambda x:x.text, summaries))\n",
    "summaries[-1]"
   ]
  },
  {
   "cell_type": "code",
   "execution_count": 7,
   "metadata": {},
   "outputs": [
    {
     "data": {
      "text/plain": [
       "[33, 15]"
      ]
     },
     "execution_count": 7,
     "metadata": {},
     "output_type": "execute_result"
    }
   ],
   "source": [
    "def retrieve_name(name):\n",
    "    split_name = name.split(' ', 1)\n",
    "    return True if split_name[0] == \"Robert\" or split_name[1] == \"Koenig\" else False\n",
    "\n",
    "names = soup.find_all('name')\n",
    "names = list(map(lambda x:x.text, names))\n",
    "names = list(filter(retrieve_name, names))\n",
    "del names[names.index('Robert Howe')]\n",
    "\n",
    "indices = list([names.index('Alexander Koenig'), names.index('Robert A. Bridges')])\n",
    "indices"
   ]
  },
  {
   "cell_type": "code",
   "execution_count": 8,
   "metadata": {},
   "outputs": [],
   "source": [
    "titles_to_remove = list()\n",
    "summaries_to_remove = list()\n",
    "\n",
    "for index in indices:\n",
    "    titles_to_remove.append(titles[index])\n",
    "    summaries_to_remove.append(summaries[index])\n",
    "    \n",
    "for title, summary in zip(titles_to_remove, summaries_to_remove):\n",
    "    titles.remove(title)\n",
    "    summaries.remove(summary)"
   ]
  },
  {
   "cell_type": "code",
   "execution_count": 73,
   "metadata": {},
   "outputs": [],
   "source": [
    "search = arxiv.Search(query = \"quantum\", max_results=500, sort_by=arxiv.SortCriterion.SubmittedDate)"
   ]
  },
  {
   "cell_type": "code",
   "execution_count": 92,
   "metadata": {},
   "outputs": [],
   "source": [
    "papers = list()\n",
    "for result in search.results():\n",
    "    papers.append(result.title + '.' + '\\n\\n' + result.summary)\n",
    "    \n",
    "for title, summary in zip(titles, summaries):\n",
    "    papers.append(title + '.' + '\\n\\n' + summary)"
   ]
  },
  {
   "cell_type": "code",
   "execution_count": 93,
   "metadata": {},
   "outputs": [
    {
     "data": {
      "text/plain": [
       "557"
      ]
     },
     "execution_count": 93,
     "metadata": {},
     "output_type": "execute_result"
    }
   ],
   "source": [
    "len(papers)"
   ]
  },
  {
   "cell_type": "code",
   "execution_count": 15,
   "metadata": {},
   "outputs": [
    {
     "name": "stdout",
     "output_type": "stream",
     "text": [
      "On the degeneracies between baryons, massive neutrinos and f(R) gravity in Stage IV cosmic shear analyses.\n",
      "\n",
      "Modelling nonlinear structure formation is essential for current and\n",
      "forthcoming cosmic shear experiments. We combine the halo model reaction\n",
      "formalism, implemented in the REACT code, with the COSMOPOWER machine learning\n",
      "emulation platform, to develop and publicly release REACTEMU-FR, a fast and\n",
      "accurate nonlinear matter power spectrum emulator for $f(R)$ gravity with\n",
      "massive neutrinos. Coupled with the state-of-the-art baryon feedback emulator\n",
      "BCEMU, we use REACTEMU-FR to produce Markov Chain Monte Carlo forecasts for a\n",
      "cosmic shear experiment with typical Stage IV specifications. We find that the\n",
      "inclusion of highly nonlinear scales (multipoles between $1500\\leq \\ell \\leq\n",
      "5000$) only mildly improves constraints on most standard cosmological\n",
      "parameters (less than a factor of 2). In particular, the necessary modelling of\n",
      "baryonic physics effectively damps most constraining power on the sum of the\n",
      "neutrino masses and modified gravity at $\\ell \\gtrsim 1500$. Using an\n",
      "approximate baryonic physics model produces mildly improved constraints on\n",
      "cosmological parameters which remain unbiased at the $1\\sigma$-level, but\n",
      "significantly biases constraints on baryonic parameters at the $>\n",
      "2\\sigma$-level.\n"
     ]
    }
   ],
   "source": [
    "print(papers[0])"
   ]
  },
  {
   "cell_type": "code",
   "execution_count": 94,
   "metadata": {},
   "outputs": [],
   "source": [
    "#tokenize text into sentences\n",
    "tokenized_papers = [nltk.sent_tokenize(paper) for paper in papers]"
   ]
  },
  {
   "cell_type": "code",
   "execution_count": 77,
   "metadata": {},
   "outputs": [
    {
     "data": {
      "text/plain": [
       "['On the degeneracies between baryons, massive neutrinos and f(R) gravity in Stage IV cosmic shear analyses.',\n",
       " 'Modelling nonlinear structure formation is essential for current and\\nforthcoming cosmic shear experiments.',\n",
       " 'We combine the halo model reaction\\nformalism, implemented in the REACT code, with the COSMOPOWER machine learning\\nemulation platform, to develop and publicly release REACTEMU-FR, a fast and\\naccurate nonlinear matter power spectrum emulator for $f(R)$ gravity with\\nmassive neutrinos.',\n",
       " 'Coupled with the state-of-the-art baryon feedback emulator\\nBCEMU, we use REACTEMU-FR to produce Markov Chain Monte Carlo forecasts for a\\ncosmic shear experiment with typical Stage IV specifications.',\n",
       " 'We find that the\\ninclusion of highly nonlinear scales (multipoles between $1500\\\\leq \\\\ell \\\\leq\\n5000$) only mildly improves constraints on most standard cosmological\\nparameters (less than a factor of 2).',\n",
       " 'In particular, the necessary modelling of\\nbaryonic physics effectively damps most constraining power on the sum of the\\nneutrino masses and modified gravity at $\\\\ell \\\\gtrsim 1500$.',\n",
       " 'Using an\\napproximate baryonic physics model produces mildly improved constraints on\\ncosmological parameters which remain unbiased at the $1\\\\sigma$-level, but\\nsignificantly biases constraints on baryonic parameters at the $>\\n2\\\\sigma$-level.']"
      ]
     },
     "execution_count": 77,
     "metadata": {},
     "output_type": "execute_result"
    }
   ],
   "source": [
    "tokenized_papers[0]"
   ]
  },
  {
   "cell_type": "code",
   "execution_count": 98,
   "metadata": {},
   "outputs": [],
   "source": [
    "# count number of sentences in each paper\n",
    "num_sentences = [len(paper) for paper in tokenized_papers]"
   ]
  },
  {
   "cell_type": "code",
   "execution_count": 231,
   "metadata": {},
   "outputs": [],
   "source": [
    "# remove papers with less than 2 sentences in the abstract\n",
    "valid_papers = list()\n",
    "for i in range(len(papers)):\n",
    "    if num_sentences[i] > 6:\n",
    "        valid_papers.append(papers[i])"
   ]
  },
  {
   "cell_type": "code",
   "execution_count": 232,
   "metadata": {},
   "outputs": [
    {
     "data": {
      "text/plain": [
       "43"
      ]
     },
     "execution_count": 232,
     "metadata": {},
     "output_type": "execute_result"
    }
   ],
   "source": [
    "len(valid_papers)"
   ]
  },
  {
   "cell_type": "code",
   "execution_count": 233,
   "metadata": {},
   "outputs": [],
   "source": [
    "tokenized_valid_papers = [nltk.sent_tokenize(paper) for paper in valid_papers]"
   ]
  },
  {
   "cell_type": "code",
   "execution_count": 234,
   "metadata": {},
   "outputs": [
    {
     "name": "stdout",
     "output_type": "stream",
     "text": [
      "0\n"
     ]
    }
   ],
   "source": [
    "vidx = np.argmin([len(paper) for paper in tokenized_valid_papers])\n",
    "print(vidx)"
   ]
  },
  {
   "cell_type": "code",
   "execution_count": 88,
   "metadata": {},
   "outputs": [
    {
     "name": "stdout",
     "output_type": "stream",
     "text": [
      "Investigating Loop Quantum Gravity Through Strong Gravitational Lensing Effects by Rotating Black Hole and EHT Observations.\n",
      "\n",
      "We investigate gravitational lensing in the strong deflection regime by loop\n",
      "quantum gravity (LQG)-motivated rotating black hole (LMRBH) metrics with an\n",
      "additional parameter $l$ besides mass $M$ and rotation $a$. The LMRBH\n",
      "spacetimes are regular everywhere, asymptotically encompassing the Kerr black\n",
      "hole as a particular case and, depending on the parameters, describe black\n",
      "holes with one horizon only (BH-I), black holes with an event horizon and a\n",
      "Cauchy horizon (BH-II), black holes with three horizons (BH-III), or black\n",
      "holes with no horizons (NH) spacetime. It turns out that as the LQG parameter\n",
      "$l$ increases, the unstable photon orbit radius $x_{ps}$, the critical impact\n",
      "parameter $u_{ps}$, the deflection angle $\\alpha_D(\\theta)$ and angular\n",
      "position $\\theta_{\\infty}$ also increases. Meanwhile, the angular separation\n",
      "$s$ decreases, and relative magnitude $r_{mag}$ increases with increasing $l$\n",
      "for prograde motion but they show opposite behaviour for the retrograde motion.\n",
      "For Sgr A*, the angular position $\\theta_{\\infty}$ is $\\in$ (16.404, 39.8044)\n",
      "$\\mu$as, while for M87* $\\in$ (12.3246, 29.9057) $\\mu$as. The angular\n",
      "separation $s$ is ranging $\\in$ (0.008306-0.37573) $\\mu$as for Sgr A* and $\\in$\n",
      "(0.00624-0.282295) $\\mu$as for M87*. The relative magnitude $r_{mag}$ $\\in$\n",
      "(0.04724, 1.53831). We estimate the time delay between the first and second\n",
      "relativistic images using twenty supermassive galactic centre black holes as\n",
      "lenses. Our analysis concludes that, within the $1 \\sigma$ region, a\n",
      "significant portion of the BH-I and BH-II and for a small portion of BH-III\n",
      "parameter space agrees with the EHT results of M87* and Sgr A* whereas NH is\n",
      "completely ruled out. We discover that the EHT results of Sgr A* place more\n",
      "stringent limits on the parameter space of LMRBH black holes than those\n",
      "established by the EHT results of M87*.\n"
     ]
    }
   ],
   "source": [
    "print(valid_papers[idx])"
   ]
  },
  {
   "cell_type": "code",
   "execution_count": 236,
   "metadata": {},
   "outputs": [
    {
     "name": "stdout",
     "output_type": "stream",
     "text": [
      "11\n"
     ]
    }
   ],
   "source": [
    "mean = np.min([len(paper) for paper in tokenized_valid_papers])\n",
    "print(mean)"
   ]
  },
  {
   "cell_type": "code",
   "execution_count": 237,
   "metadata": {},
   "outputs": [],
   "source": [
    "embeddings = list()\n",
    "model = SentenceTransformer('all-MiniLM-L6-v2')\n",
    "for token_paper in tokenized_valid_papers:\n",
    "    embeddings.append(model.encode(token_paper))"
   ]
  },
  {
   "cell_type": "code",
   "execution_count": 238,
   "metadata": {},
   "outputs": [],
   "source": [
    "reducer = umap.UMAP(n_neighbors=6, init='random', n_components=2)\n",
    "umap_embeddings=list(map(lambda x:reducer.fit_transform(x), embeddings))"
   ]
  },
  {
   "cell_type": "code",
   "execution_count": 239,
   "metadata": {},
   "outputs": [],
   "source": [
    "centers = list()\n",
    "for embedding in umap_embeddings:\n",
    "    centers.append([np.mean(embedding[:, 0]), np.mean(embedding[:, 1])])"
   ]
  },
  {
   "cell_type": "code",
   "execution_count": 240,
   "metadata": {},
   "outputs": [
    {
     "data": {
      "text/plain": [
       "(43, 2)"
      ]
     },
     "execution_count": 240,
     "metadata": {},
     "output_type": "execute_result"
    }
   ],
   "source": [
    "np.shape(centers)"
   ]
  },
  {
   "cell_type": "code",
   "execution_count": 241,
   "metadata": {},
   "outputs": [],
   "source": [
    "from sklearn.neighbors import NearestNeighbors\n",
    "# n_neighbors = 5 as kneighbors function returns distance of point to itself (i.e. first column will be zeros) \n",
    "nbrs = NearestNeighbors(n_neighbors = 6).fit(centers)\n",
    "# Find the k-neighbors of a point\n",
    "neigh_dist, neigh_ind = nbrs.kneighbors(centers)\n",
    "# sort the neighbor distances (lengths to points) in ascending order\n",
    "# axis = 0 represents sort along first axis i.e. sort along row\n",
    "sort_neigh_dist = np.sort(neigh_dist, axis = 0)"
   ]
  },
  {
   "cell_type": "code",
   "execution_count": 242,
   "metadata": {},
   "outputs": [
    {
     "data": {
      "image/png": "[encoded data removed]",
      "text/plain": [
       "<Figure size 432x288 with 1 Axes>"
      ]
     },
     "metadata": {
      "needs_background": "light"
     },
     "output_type": "display_data"
    }
   ],
   "source": [
    "import matplotlib.pyplot as plt\n",
    "\n",
    "k_dist = sort_neigh_dist[:, 5]\n",
    "plt.plot(k_dist)\n",
    "plt.ylabel(\"k-NN distance\")\n",
    "plt.xlabel(\"Sorted observations (4th NN)\")\n",
    "plt.show()"
   ]
  },
  {
   "cell_type": "code",
   "execution_count": 243,
   "metadata": {},
   "outputs": [
    {
     "name": "stdout",
     "output_type": "stream",
     "text": [
      "Keyring is skipped due to an exception: 'keyring.backends'\n",
      "Requirement already satisfied: kneed in /opt/anaconda3/lib/python3.7/site-packages (0.8.3)\n",
      "Requirement already satisfied: scipy>=1.0.0 in /opt/anaconda3/lib/python3.7/site-packages (from kneed) (1.7.3)\n",
      "Requirement already satisfied: numpy>=1.14.2 in /opt/anaconda3/lib/python3.7/site-packages (from kneed) (1.21.6)\n",
      "Note: you may need to restart the kernel to use updated packages.\n"
     ]
    }
   ],
   "source": [
    "%pip install kneed"
   ]
  },
  {
   "cell_type": "code",
   "execution_count": 244,
   "metadata": {},
   "outputs": [
    {
     "name": "stdout",
     "output_type": "stream",
     "text": [
      "11.760685572138271\n"
     ]
    }
   ],
   "source": [
    "from kneed import KneeLocator\n",
    "kneedle = KneeLocator(x = range(1, len(neigh_dist)+1), y = k_dist, S = 1.0, \n",
    "                      curve = \"concave\", direction = \"increasing\", online=True)\n",
    "\n",
    "# get the estimate of knee point\n",
    "print(kneedle.knee_y)"
   ]
  },
  {
   "cell_type": "code",
   "execution_count": 245,
   "metadata": {},
   "outputs": [
    {
     "data": {
      "image/png": "[encoded data removed]",
      "text/plain": [
       "<Figure size 432x432 with 1 Axes>"
      ]
     },
     "metadata": {
      "needs_background": "light"
     },
     "output_type": "display_data"
    }
   ],
   "source": [
    "kneedle.plot_knee()\n",
    "plt.show()"
   ]
  },
  {
   "cell_type": "code",
   "execution_count": 246,
   "metadata": {},
   "outputs": [],
   "source": [
    "from sklearn.cluster import DBSCAN\n",
    "clusters = DBSCAN(eps =3, min_samples = 2).fit(centers)"
   ]
  },
  {
   "cell_type": "code",
   "execution_count": 247,
   "metadata": {},
   "outputs": [
    {
     "data": {
      "text/plain": [
       "Counter({0: 5, -1: 21, 1: 15, 2: 2})"
      ]
     },
     "execution_count": 247,
     "metadata": {},
     "output_type": "execute_result"
    }
   ],
   "source": [
    "from collections import Counter\n",
    "Counter(clusters.labels_)"
   ]
  },
  {
   "cell_type": "code",
   "execution_count": 248,
   "metadata": {},
   "outputs": [
    {
     "data": {
      "text/plain": [
       "(43, 2)"
      ]
     },
     "execution_count": 248,
     "metadata": {},
     "output_type": "execute_result"
    }
   ],
   "source": [
    "new_centers = np.array(centers, dtype=object)\n",
    "new_centers.shape"
   ]
  },
  {
   "cell_type": "code",
   "execution_count": 249,
   "metadata": {},
   "outputs": [
    {
     "data": {
      "text/plain": [
       "<matplotlib.collections.PathCollection at 0x7f9f165a00d0>"
      ]
     },
     "execution_count": 249,
     "metadata": {},
     "output_type": "execute_result"
    },
    {
     "data": {
      "image/png": "[encoded data removed]",
      "text/plain": [
       "<Figure size 864x576 with 1 Axes>"
      ]
     },
     "metadata": {
      "needs_background": "light"
     },
     "output_type": "display_data"
    }
   ],
   "source": [
    "# plot the umap embeddings\n",
    "\n",
    "\n",
    "\n",
    "plt.figure(figsize=(12,8))\n",
    "plt.scatter(new_centers[:,0], new_centers[:,1], s=6, c='blue')"
   ]
  },
  {
   "cell_type": "code",
   "execution_count": 250,
   "metadata": {},
   "outputs": [],
   "source": [
    "import pandas as pd\n",
    "df = pd.DataFrame(centers)"
   ]
  },
  {
   "cell_type": "code",
   "execution_count": 253,
   "metadata": {},
   "outputs": [
    {
     "name": "stdout",
     "output_type": "stream",
     "text": [
      "Keyring is skipped due to an exception: 'keyring.backends'\n",
      "Collecting seaborn\n",
      "  Downloading seaborn-0.12.2-py3-none-any.whl (293 kB)\n",
      "\u001b[K     |████████████████████████████████| 293 kB 3.1 MB/s eta 0:00:01\n",
      "\u001b[?25hRequirement already satisfied, skipping upgrade: numpy!=1.24.0,>=1.17 in /opt/anaconda3/lib/python3.7/site-packages (from seaborn) (1.21.6)\n",
      "Requirement already satisfied, skipping upgrade: typing_extensions; python_version < \"3.8\" in /opt/anaconda3/lib/python3.7/site-packages (from seaborn) (4.5.0)\n",
      "Requirement already satisfied, skipping upgrade: pandas>=0.25 in /opt/anaconda3/lib/python3.7/site-packages (from seaborn) (1.0.1)\n",
      "Requirement already satisfied, skipping upgrade: matplotlib!=3.6.1,>=3.1 in /opt/anaconda3/lib/python3.7/site-packages (from seaborn) (3.5.2)\n",
      "Requirement already satisfied, skipping upgrade: pytz>=2017.2 in /opt/anaconda3/lib/python3.7/site-packages (from pandas>=0.25->seaborn) (2019.3)\n",
      "Requirement already satisfied, skipping upgrade: python-dateutil>=2.6.1 in /opt/anaconda3/lib/python3.7/site-packages (from pandas>=0.25->seaborn) (2.8.1)\n",
      "Requirement already satisfied, skipping upgrade: fonttools>=4.22.0 in /opt/anaconda3/lib/python3.7/site-packages (from matplotlib!=3.6.1,>=3.1->seaborn) (4.33.3)\n",
      "Requirement already satisfied, skipping upgrade: pyparsing>=2.2.1 in /opt/anaconda3/lib/python3.7/site-packages (from matplotlib!=3.6.1,>=3.1->seaborn) (2.4.6)\n",
      "Requirement already satisfied, skipping upgrade: packaging>=20.0 in /opt/anaconda3/lib/python3.7/site-packages (from matplotlib!=3.6.1,>=3.1->seaborn) (22.0)\n",
      "Requirement already satisfied, skipping upgrade: cycler>=0.10 in /opt/anaconda3/lib/python3.7/site-packages (from matplotlib!=3.6.1,>=3.1->seaborn) (0.10.0)\n",
      "Requirement already satisfied, skipping upgrade: kiwisolver>=1.0.1 in /opt/anaconda3/lib/python3.7/site-packages (from matplotlib!=3.6.1,>=3.1->seaborn) (1.1.0)\n",
      "Requirement already satisfied, skipping upgrade: pillow>=6.2.0 in /opt/anaconda3/lib/python3.7/site-packages (from matplotlib!=3.6.1,>=3.1->seaborn) (7.0.0)\n",
      "Requirement already satisfied, skipping upgrade: six>=1.5 in /opt/anaconda3/lib/python3.7/site-packages (from python-dateutil>=2.6.1->pandas>=0.25->seaborn) (1.14.0)\n",
      "Requirement already satisfied, skipping upgrade: setuptools in /opt/anaconda3/lib/python3.7/site-packages (from kiwisolver>=1.0.1->matplotlib!=3.6.1,>=3.1->seaborn) (46.0.0.post20200309)\n",
      "Installing collected packages: seaborn\n",
      "  Attempting uninstall: seaborn\n",
      "    Found existing installation: seaborn 0.10.0\n",
      "    Uninstalling seaborn-0.10.0:\n",
      "      Successfully uninstalled seaborn-0.10.0\n",
      "Successfully installed seaborn-0.12.2\n",
      "Note: you may need to restart the kernel to use updated packages.\n"
     ]
    }
   ],
   "source": [
    "%pip install -U seaborn"
   ]
  },
  {
   "cell_type": "code",
   "execution_count": 255,
   "metadata": {},
   "outputs": [
    {
     "data": {
      "image/png": "[encoded data removed]",
      "text/plain": [
       "<Figure size 432x288 with 1 Axes>"
      ]
     },
     "metadata": {
      "needs_background": "light"
     },
     "output_type": "display_data"
    }
   ],
   "source": [
    "import seaborn as sns\n",
    "import matplotlib.pyplot as plt\n",
    "p = sns.scatterplot(data = df, hue = clusters.labels_, legend = \"full\", palette = \"deep\")\n",
    "plt.show()"
   ]
  },
  {
   "cell_type": "code",
   "execution_count": null,
   "metadata": {},
   "outputs": [],
   "source": []
  }
 ],
 "metadata": {
  "kernelspec": {
   "display_name": "Python 3",
   "language": "python",
   "name": "python3"
  },
  "language_info": {
   "codemirror_mode": {
    "name": "ipython",
    "version": 3
   },
   "file_extension": ".py",
   "mimetype": "text/x-python",
   "name": "python",
   "nbconvert_exporter": "python",
   "pygments_lexer": "ipython3",
   "version": "3.7.6"
  }
 },
 "nbformat": 4,
 "nbformat_minor": 1
}
