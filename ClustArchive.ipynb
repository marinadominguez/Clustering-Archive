{
 "cells": [
  {
   "attachments": {},
   "cell_type": "markdown",
   "metadata": {},
   "source": [
    "## Clustering Archive"
   ]
  },
  {
   "cell_type": "code",
   "execution_count": 1,
   "metadata": {},
   "outputs": [
    {
     "name": "stderr",
     "output_type": "stream",
     "text": [
      "c:\\Users\\marin\\anaconda3\\envs\\clust-arc\\lib\\site-packages\\numpy\\_distributor_init.py:30: UserWarning: loaded more than 1 DLL from .libs:\n",
      "c:\\Users\\marin\\anaconda3\\envs\\clust-arc\\lib\\site-packages\\numpy\\.libs\\libopenblas.XWYDX2IKJW2NMTWSFYNGFUWKQU3LYTCZ.gfortran-win_amd64.dll\n",
      "c:\\Users\\marin\\anaconda3\\envs\\clust-arc\\lib\\site-packages\\numpy\\.libs\\libopenblas64__v0.3.21-gcc_10_3_0.dll\n",
      "  warnings.warn(\"loaded more than 1 DLL from .libs:\"\n",
      "c:\\Users\\marin\\anaconda3\\envs\\clust-arc\\lib\\site-packages\\tqdm\\auto.py:21: TqdmWarning: IProgress not found. Please update jupyter and ipywidgets. See https://ipywidgets.readthedocs.io/en/stable/user_install.html\n",
      "  from .autonotebook import tqdm as notebook_tqdm\n",
      "c:\\Users\\marin\\anaconda3\\envs\\clust-arc\\lib\\site-packages\\umap\\distances.py:1063: NumbaDeprecationWarning: \u001b[1mThe 'nopython' keyword argument was not supplied to the 'numba.jit' decorator. The implicit default value for this argument is currently False, but it will be changed to True in Numba 0.59.0. See https://numba.readthedocs.io/en/stable/reference/deprecation.html#deprecation-of-object-mode-fall-back-behaviour-when-using-jit for details.\u001b[0m\n",
      "  @numba.jit()\n",
      "c:\\Users\\marin\\anaconda3\\envs\\clust-arc\\lib\\site-packages\\umap\\distances.py:1071: NumbaDeprecationWarning: \u001b[1mThe 'nopython' keyword argument was not supplied to the 'numba.jit' decorator. The implicit default value for this argument is currently False, but it will be changed to True in Numba 0.59.0. See https://numba.readthedocs.io/en/stable/reference/deprecation.html#deprecation-of-object-mode-fall-back-behaviour-when-using-jit for details.\u001b[0m\n",
      "  @numba.jit()\n",
      "c:\\Users\\marin\\anaconda3\\envs\\clust-arc\\lib\\site-packages\\umap\\distances.py:1086: NumbaDeprecationWarning: \u001b[1mThe 'nopython' keyword argument was not supplied to the 'numba.jit' decorator. The implicit default value for this argument is currently False, but it will be changed to True in Numba 0.59.0. See https://numba.readthedocs.io/en/stable/reference/deprecation.html#deprecation-of-object-mode-fall-back-behaviour-when-using-jit for details.\u001b[0m\n",
      "  @numba.jit()\n",
      "c:\\Users\\marin\\anaconda3\\envs\\clust-arc\\lib\\site-packages\\umap\\umap_.py:660: NumbaDeprecationWarning: \u001b[1mThe 'nopython' keyword argument was not supplied to the 'numba.jit' decorator. The implicit default value for this argument is currently False, but it will be changed to True in Numba 0.59.0. See https://numba.readthedocs.io/en/stable/reference/deprecation.html#deprecation-of-object-mode-fall-back-behaviour-when-using-jit for details.\u001b[0m\n",
      "  @numba.jit()\n",
      "[nltk_data] Downloading package punkt to\n",
      "[nltk_data]     C:\\Users\\marin\\AppData\\Roaming\\nltk_data...\n",
      "[nltk_data]   Package punkt is already up-to-date!\n"
     ]
    },
    {
     "data": {
      "text/plain": [
       "True"
      ]
     },
     "execution_count": 1,
     "metadata": {},
     "output_type": "execute_result"
    }
   ],
   "source": [
    "import arxiv\n",
    "from sentence_transformers import SentenceTransformer\n",
    "import umap\n",
    "import nltk\n",
    "nltk.download('punkt')"
   ]
  },
  {
   "attachments": {},
   "cell_type": "markdown",
   "metadata": {},
   "source": [
    "### Load the data\n",
    "\n",
    "Firstly, we import the necessary libraries `urllib` and `BeautifulSoup` for web scraping.\n",
    "\n",
    "Then, we define a URL to query the arXiv API for papers authored by Akihiko Noda. \n",
    "\n",
    "The `urllib.request.urlopen()` function is used to open the URL and retrieve the response, which is then parsed using BeautifulSoup to extract the relevant information. \n",
    "\n",
    "Specifically, we retrieve the first 36 results of the query and store them in the `soup_1` object."
   ]
  },
  {
   "cell_type": "code",
   "execution_count": 2,
   "metadata": {},
   "outputs": [],
   "source": [
    "import urllib, urllib.request\n",
    "from bs4 import BeautifulSoup\n",
    "url_1 = 'https://export.arxiv.org/api/query?search_query=au:akihiko+noda&start=0&max_results=36'\n",
    "with urllib.request.urlopen(url_1) as response_1:\n",
    "    soup_1 = BeautifulSoup(response_1, \"lxml\")"
   ]
  },
  {
   "attachments": {},
   "cell_type": "markdown",
   "metadata": {},
   "source": [
    "Now we define a URL to query the arXiv API for papers authored by Robert Koenig in the category of quantum physics. \n",
    "\n",
    "As before, we retrieve the first 59 results of the query and store them in the `soup_2` object."
   ]
  },
  {
   "cell_type": "code",
   "execution_count": 3,
   "metadata": {},
   "outputs": [],
   "source": [
    "url_2 = 'https://export.arxiv.org/api/query?search_query=au:robert+koenig&cat:quant-ph&start=0&max_results=59'\n",
    "with urllib.request.urlopen(url_2) as response_2:\n",
    "    soup_2 = BeautifulSoup(response_2, \"lxml\")"
   ]
  },
  {
   "attachments": {},
   "cell_type": "markdown",
   "metadata": {},
   "source": [
    "## Preprocessing\n",
    "\n",
    "Using BeautifulSoup, we can extract the titles of papers authored by Akihiko Noda and Robert Koenig from the arXiv API. \n",
    "\n",
    "The `.find_all('title')` function is used to find all the `title` tags in the HTML response. \n",
    "The `map()` function is used to apply the `text` method to each `title` tag, which extracts the text content of the tag. \n",
    "\n",
    "The `del titles[0]` line is used to remove the first element of the titles list, which is the title of the arXiv query page and not a paper title. "
   ]
  },
  {
   "cell_type": "code",
   "execution_count": 4,
   "metadata": {},
   "outputs": [
    {
     "data": {
      "text/plain": [
       "36"
      ]
     },
     "execution_count": 4,
     "metadata": {},
     "output_type": "execute_result"
    }
   ],
   "source": [
    "titles_1 = soup_1.find_all('title')\n",
    "titles_1 = list(map(lambda x:x.text, titles_1))\n",
    "del titles_1[0]\n",
    "len(titles_1)"
   ]
  },
  {
   "attachments": {},
   "cell_type": "markdown",
   "metadata": {},
   "source": [
    "We do the same for the summaries of the papers."
   ]
  },
  {
   "cell_type": "code",
   "execution_count": 5,
   "metadata": {},
   "outputs": [
    {
     "data": {
      "text/plain": [
       "36"
      ]
     },
     "execution_count": 5,
     "metadata": {},
     "output_type": "execute_result"
    }
   ],
   "source": [
    "summaries_1 = soup_1.find_all('summary')\n",
    "summaries_1 = list(map(lambda x:x.text, summaries_1))\n",
    "len(summaries_1)"
   ]
  },
  {
   "cell_type": "code",
   "execution_count": 6,
   "metadata": {},
   "outputs": [],
   "source": [
    "def retrieve_name_noda(name):\n",
    "    split_name = name.split(' ', 1)\n",
    "    return True if split_name[0] == \"Akihiko\" or split_name[1] == \"Noda\" else False"
   ]
  },
  {
   "cell_type": "code",
   "execution_count": 7,
   "metadata": {},
   "outputs": [],
   "source": [
    "names = soup_1.find_all('name')\n",
    "names = list(map(lambda x:x.text, names))\n",
    "names = list(filter(retrieve_name_noda, names))"
   ]
  },
  {
   "cell_type": "code",
   "execution_count": 8,
   "metadata": {},
   "outputs": [
    {
     "data": {
      "text/plain": [
       "36"
      ]
     },
     "execution_count": 8,
     "metadata": {},
     "output_type": "execute_result"
    }
   ],
   "source": [
    "len(names)"
   ]
  },
  {
   "cell_type": "code",
   "execution_count": 10,
   "metadata": {},
   "outputs": [
    {
     "name": "stdout",
     "output_type": "stream",
     "text": [
      "36\n",
      "36\n",
      "15\n",
      "15\n"
     ]
    },
    {
     "data": {
      "text/plain": [
       "'\\nakihiko_papers = list()\\nfor i in range(len(list_1)):\\n    for title, summary in list_1[i][:1]:\\n        print(title, summary)\\n'"
      ]
     },
     "execution_count": 10,
     "metadata": {},
     "output_type": "execute_result"
    }
   ],
   "source": [
    "# soup_1 retrieve: title, summary, names\n",
    "\n",
    "titles_1 = soup_1.find_all('title')\n",
    "titles_1 = list(map(lambda x:x.text, titles_1))\n",
    "del titles_1[0]\n",
    "print(len(titles_1))\n",
    "\n",
    "summaries_1 = soup_1.find_all('summary')\n",
    "summaries_1 = list(map(lambda x:x.text, summaries_1))\n",
    "print(len(summaries_1))\n",
    "\n",
    "def retrieve_name_noda(name):\n",
    "    split_name = name.split(' ', 1)\n",
    "    return True if split_name[0] == \"Akihiko\" and split_name[1] == \"Noda\" else False\n",
    "\n",
    "names = soup_1.find_all('name')\n",
    "names = list(map(lambda x:x.text, names))\n",
    "names = list(filter(retrieve_name_noda, names))\n",
    "\n",
    "print(len(names))\n",
    "\n",
    "list_1 = []\n",
    "for title, summary, name in zip(titles_1, summaries_1, names):\n",
    "    list_1.append([title, summary, name])\n",
    "\n",
    "print(len(list_1))"
   ]
  },
  {
   "cell_type": "code",
   "execution_count": 11,
   "metadata": {},
   "outputs": [
    {
     "data": {
      "text/plain": [
       "['Estimating the Time-Varying Structures of the Fama-French Multi-Factor\\n  Models',\n",
       " \"  This study examines the time-varying structures of Fama-French multi-factor\\nmodels (Fama and French (1993, 2015, 2016, 2018)) using Ito et al.'s (2022)\\ngeneralized least squares-based time-varying multivariate model. Specifically,\\nwe employ 25 benchmark portfolios for the U.S., Japan, and Europe to estimate\\ntime-varying parameters in those models, with a focus on time stability. We\\nfind that model parameters change over time, with differences in time stability\\namong the countries/regions.\\n\",\n",
       " 'Akihiko Noda']"
      ]
     },
     "execution_count": 11,
     "metadata": {},
     "output_type": "execute_result"
    }
   ],
   "source": [
    "list_1[0]"
   ]
  },
  {
   "cell_type": "code",
   "execution_count": 18,
   "metadata": {},
   "outputs": [
    {
     "name": "stdout",
     "output_type": "stream",
     "text": [
      "['Estimating the Time-Varying Structures of the Fama-French Multi-Factor\\n  Models', \"  This study examines the time-varying structures of Fama-French multi-factor\\nmodels (Fama and French (1993, 2015, 2016, 2018)) using Ito et al.'s (2022)\\ngeneralized least squares-based time-varying multivariate model. Specifically,\\nwe employ 25 benchmark portfolios for the U.S., Japan, and Europe to estimate\\ntime-varying parameters in those models, with a focus on time stability. We\\nfind that model parameters change over time, with differences in time stability\\namong the countries/regions.\\n\"]\n"
     ]
    }
   ],
   "source": [
    "list_1[0][:2]"
   ]
  },
  {
   "cell_type": "code",
   "execution_count": 14,
   "metadata": {},
   "outputs": [],
   "source": [
    "akihiko_papers = list()\n",
    " \n",
    "for i in list_1:\n",
    "    title = i[0]\n",
    "    summary = i[1]\n",
    "    akihiko_papers.append(title + '.' + '\\n\\n' + summary)"
   ]
  },
  {
   "cell_type": "code",
   "execution_count": 15,
   "metadata": {},
   "outputs": [
    {
     "data": {
      "text/plain": [
       "15"
      ]
     },
     "execution_count": 15,
     "metadata": {},
     "output_type": "execute_result"
    }
   ],
   "source": [
    "len(akihiko_papers)"
   ]
  },
  {
   "cell_type": "code",
   "execution_count": 17,
   "metadata": {},
   "outputs": [
    {
     "name": "stdout",
     "output_type": "stream",
     "text": [
      "Estimating the Time-Varying Structures of the Fama-French Multi-Factor\n",
      "  Models.\n",
      "\n",
      "  This study examines the time-varying structures of Fama-French multi-factor\n",
      "models (Fama and French (1993, 2015, 2016, 2018)) using Ito et al.'s (2022)\n",
      "generalized least squares-based time-varying multivariate model. Specifically,\n",
      "we employ 25 benchmark portfolios for the U.S., Japan, and Europe to estimate\n",
      "time-varying parameters in those models, with a focus on time stability. We\n",
      "find that model parameters change over time, with differences in time stability\n",
      "among the countries/regions.\n",
      "\n"
     ]
    }
   ],
   "source": [
    "print(akihiko_papers[0])"
   ]
  },
  {
   "attachments": {},
   "cell_type": "markdown",
   "metadata": {},
   "source": [
    "So, we got the titles and summaries of the papers authored by Akihiko Noda. \n",
    "\n",
    "Now we proceed with the same procedure for the papers authored by Robert Koenig."
   ]
  },
  {
   "cell_type": "code",
   "execution_count": 40,
   "metadata": {},
   "outputs": [
    {
     "name": "stdout",
     "output_type": "stream",
     "text": [
      "Locking of accessible information and implications for the security of\n",
      "  quantum cryptography\n",
      "59\n"
     ]
    }
   ],
   "source": [
    "titles_2 = soup_2.find_all('title')\n",
    "titles_2 = list(map(lambda x:x.text, titles_2))\n",
    "del titles_2[0]\n",
    "print(titles_2[-1])\n",
    "print(len(titles_2))"
   ]
  },
  {
   "cell_type": "code",
   "execution_count": 41,
   "metadata": {},
   "outputs": [
    {
     "name": "stdout",
     "output_type": "stream",
     "text": [
      "59\n"
     ]
    }
   ],
   "source": [
    "summaries_2 = soup_2.find_all('summary')\n",
    "summaries_2 = list(map(lambda x:x.text, summaries_2))\n",
    "print(len(summaries_2))"
   ]
  },
  {
   "attachments": {},
   "cell_type": "markdown",
   "metadata": {},
   "source": [
    "Let's check that we have the correct papers by retrieving the author name:"
   ]
  },
  {
   "cell_type": "code",
   "execution_count": 51,
   "metadata": {},
   "outputs": [
    {
     "name": "stdout",
     "output_type": "stream",
     "text": [
      "57\n",
      "57\n"
     ]
    }
   ],
   "source": [
    "def retrieve_name(name):\n",
    "    split_name = name.split(' ', 1)\n",
    "    return True if split_name[0] == \"Robert\" and split_name[1] == \"Koenig\" else False\n",
    "\n",
    "names_2 = soup_2.find_all('name')\n",
    "names_2 = list(map(lambda x:x.text, names_2))\n",
    "names_2 = list(filter(retrieve_name, names_2))\n",
    "\n",
    "print(len(names_2))\n",
    "\n",
    "list_2 = []\n",
    "for title, summary, name in zip(titles_2, summaries_2, names_2):\n",
    "    list_2.append([title, summary, name])\n",
    "\n",
    "print(len(list_2))"
   ]
  },
  {
   "cell_type": "code",
   "execution_count": 52,
   "metadata": {},
   "outputs": [],
   "source": [
    "koenig_papers = list()\n",
    " \n",
    "for i in list_2:\n",
    "    title = i[0]\n",
    "    summary = i[1]\n",
    "    koenig_papers.append(title + '.' + '\\n\\n' + summary)"
   ]
  },
  {
   "cell_type": "code",
   "execution_count": 53,
   "metadata": {},
   "outputs": [
    {
     "name": "stdout",
     "output_type": "stream",
     "text": [
      "57\n",
      "The conditional entropy power inequality for Gaussian quantum states.\n",
      "\n",
      "  We propose a generalization of the quantum entropy power inequality involving\n",
      "conditional entropies. For the special case of Gaussian states, we give a proof\n",
      "based on perturbation theory for symplectic spectra. We discuss some\n",
      "implications for entanglement-assisted classical communication over additive\n",
      "bosonic noise channels.\n",
      "\n"
     ]
    }
   ],
   "source": [
    "print(len(koenig_papers))\n",
    "print(koenig_papers[0])"
   ]
  },
  {
   "attachments": {},
   "cell_type": "markdown",
   "metadata": {},
   "source": [
    "Now we create a list called papers that contains the titles and summaries of the papers, i. e. we join the two lists together. "
   ]
  },
  {
   "cell_type": "code",
   "execution_count": 61,
   "metadata": {},
   "outputs": [],
   "source": [
    "papers = koenig_papers + akihiko_papers"
   ]
  },
  {
   "cell_type": "code",
   "execution_count": 62,
   "metadata": {},
   "outputs": [
    {
     "data": {
      "text/plain": [
       "72"
      ]
     },
     "execution_count": 62,
     "metadata": {},
     "output_type": "execute_result"
    }
   ],
   "source": [
    "len(papers)"
   ]
  },
  {
   "cell_type": "code",
   "execution_count": 63,
   "metadata": {},
   "outputs": [
    {
     "name": "stdout",
     "output_type": "stream",
     "text": [
      "The conditional entropy power inequality for Gaussian quantum states.\n",
      "\n",
      "  We propose a generalization of the quantum entropy power inequality involving\n",
      "conditional entropies. For the special case of Gaussian states, we give a proof\n",
      "based on perturbation theory for symplectic spectra. We discuss some\n",
      "implications for entanglement-assisted classical communication over additive\n",
      "bosonic noise channels.\n",
      "\n"
     ]
    }
   ],
   "source": [
    "print(papers[0])"
   ]
  },
  {
   "attachments": {},
   "cell_type": "markdown",
   "metadata": {},
   "source": [
    "### Tokenize the text into sentences"
   ]
  },
  {
   "attachments": {},
   "cell_type": "markdown",
   "metadata": {},
   "source": [
    "We can tokenize the text into sentences using the `sent_tokenize()` function from the `nltk.tokenize` library."
   ]
  },
  {
   "cell_type": "code",
   "execution_count": 64,
   "metadata": {},
   "outputs": [],
   "source": [
    "tokenized_papers = [nltk.sent_tokenize(paper) for paper in papers]"
   ]
  },
  {
   "cell_type": "code",
   "execution_count": 65,
   "metadata": {},
   "outputs": [
    {
     "data": {
      "text/plain": [
       "['The conditional entropy power inequality for Gaussian quantum states.',\n",
       " 'We propose a generalization of the quantum entropy power inequality involving\\nconditional entropies.',\n",
       " 'For the special case of Gaussian states, we give a proof\\nbased on perturbation theory for symplectic spectra.',\n",
       " 'We discuss some\\nimplications for entanglement-assisted classical communication over additive\\nbosonic noise channels.']"
      ]
     },
     "execution_count": 65,
     "metadata": {},
     "output_type": "execute_result"
    }
   ],
   "source": [
    "tokenized_papers[0]"
   ]
  },
  {
   "cell_type": "code",
   "execution_count": 66,
   "metadata": {},
   "outputs": [
    {
     "data": {
      "text/plain": [
       "4"
      ]
     },
     "execution_count": 66,
     "metadata": {},
     "output_type": "execute_result"
    }
   ],
   "source": [
    "len(tokenized_papers[0])"
   ]
  },
  {
   "attachments": {},
   "cell_type": "markdown",
   "metadata": {},
   "source": [
    "Count number of sentences in each paper"
   ]
  },
  {
   "cell_type": "code",
   "execution_count": 67,
   "metadata": {},
   "outputs": [
    {
     "data": {
      "text/plain": [
       "4"
      ]
     },
     "execution_count": 67,
     "metadata": {},
     "output_type": "execute_result"
    }
   ],
   "source": [
    "num_sentences = [len(paper) for paper in tokenized_papers]\n",
    "num_sentences[0]"
   ]
  },
  {
   "cell_type": "code",
   "execution_count": 68,
   "metadata": {},
   "outputs": [
    {
     "name": "stdout",
     "output_type": "stream",
     "text": [
      "[4, 6, 5, 4, 5, 6, 6, 6, 5, 5, 4, 4, 12, 9, 11, 9, 7, 7, 6, 6, 8, 7, 5, 8, 7, 9, 6, 7, 7, 6, 6, 9, 11, 9, 9, 7, 9, 7, 6, 7, 9, 6, 5, 6, 7, 8, 7, 6, 7, 6, 7, 10, 12, 13, 9, 12, 9, 5, 5, 5, 5, 6, 5, 6, 4, 7, 4, 7, 8, 6, 7, 11]\n"
     ]
    }
   ],
   "source": [
    "print(num_sentences)"
   ]
  },
  {
   "attachments": {},
   "cell_type": "markdown",
   "metadata": {},
   "source": [
    "We remove the papers that are too short, i.e. less than 3 sentences in the abstract."
   ]
  },
  {
   "cell_type": "code",
   "execution_count": 72,
   "metadata": {},
   "outputs": [],
   "source": [
    "valid_papers = list()\n",
    "for i in range(len(papers)):\n",
    "    if num_sentences[i] > 4:\n",
    "        valid_papers.append(papers[i])"
   ]
  },
  {
   "cell_type": "code",
   "execution_count": 73,
   "metadata": {},
   "outputs": [],
   "source": [
    "tokenized_valid_papers = [nltk.sent_tokenize(paper) for paper in valid_papers]"
   ]
  },
  {
   "cell_type": "code",
   "execution_count": 74,
   "metadata": {},
   "outputs": [
    {
     "data": {
      "text/plain": [
       "66"
      ]
     },
     "execution_count": 74,
     "metadata": {},
     "output_type": "execute_result"
    }
   ],
   "source": [
    "len(tokenized_valid_papers)"
   ]
  },
  {
   "cell_type": "code",
   "execution_count": 75,
   "metadata": {},
   "outputs": [
    {
     "name": "stdout",
     "output_type": "stream",
     "text": [
      "1\n"
     ]
    }
   ],
   "source": [
    "import numpy as np\n",
    "vidx = np.argmin([len(paper) for paper in tokenized_valid_papers])\n",
    "print(vidx)"
   ]
  },
  {
   "cell_type": "code",
   "execution_count": 76,
   "metadata": {},
   "outputs": [
    {
     "name": "stdout",
     "output_type": "stream",
     "text": [
      "Composite anyon coding and the initialization of a topological quantum\n",
      "  computer.\n",
      "\n",
      "  Schemes for topological quantum computation are usually based on the\n",
      "assumption that the system is initially prepared in a specific state. In\n",
      "practice, this state preparation is expected to be challenging as it involves\n",
      "non-topological operations which heavily depend on the experimental realization\n",
      "and are not naturally robust against noise. Here we show that this assumption\n",
      "can be relaxed by using composite anyons: starting from an unknown state with\n",
      "reasonable physical properties, it is possible to efficiently distill suitable\n",
      "initial states for computation purely by braiding. This is achieved by encoding\n",
      "logical information in a subsystem code with gauge system corresponding to the\n",
      "internal degrees of freedom of composite objects.\n",
      "\n",
      "5\n"
     ]
    }
   ],
   "source": [
    "print(valid_papers[vidx])\n",
    "print(len(tokenized_valid_papers[vidx]))"
   ]
  },
  {
   "attachments": {},
   "cell_type": "markdown",
   "metadata": {},
   "source": [
    "Now we have 66 papers with at least 5 sentences each. \n",
    "\n",
    "### Embeddings\n",
    "\n",
    "Now we initialize a `embeddings` list. \n",
    "\n",
    "The `SentenceTransformer` function is used to load a pre-trained model named 'all-MiniLM-L6-v2'. \n",
    "\n",
    "This model is used to encode each tokenized paper in the `tokenized_valid_papers` list into a dense vector representation, which is then appended to the `embeddings` list. \n",
    "\n",
    "At the end of the loop, the `embeddings` list contains the encoded vector representations of all the tokenized papers in the `tokenized_valid_papers` list."
   ]
  },
  {
   "cell_type": "code",
   "execution_count": 77,
   "metadata": {},
   "outputs": [],
   "source": [
    "embeddings = list()\n",
    "model = SentenceTransformer('all-MiniLM-L6-v2')\n",
    "for token_paper in tokenized_valid_papers:\n",
    "    embeddings.append(model.encode(token_paper))"
   ]
  },
  {
   "attachments": {},
   "cell_type": "markdown",
   "metadata": {},
   "source": [
    "The `umap.UMAP()` function is used to initialize a UMAP object with the specified parameters, including the number of neighbors to use in the UMAP algorithm, the initialization method, and the number of components to reduce the embeddings to. \n",
    "\n",
    "The `map()` function is then used to apply the `fit_transform()` method of the UMAP object to each embedding in the `embeddings` list. This method fits the UMAP model to the embedding and then transforms it into a lower-dimensional space. The resulting UMAP embeddings are then stored in the `umap_embeddings` list. \n",
    "\n",
    "At the end of the loop, the `umap_embeddings` list contains the UMAP embeddings for all the embeddings in the `embeddings` list."
   ]
  },
  {
   "cell_type": "code",
   "execution_count": 78,
   "metadata": {},
   "outputs": [],
   "source": [
    "reducer = umap.UMAP(n_neighbors=2, init='random', n_components=2)\n",
    "umap_embeddings=list(map(lambda x:reducer.fit_transform(x), embeddings))"
   ]
  },
  {
   "attachments": {},
   "cell_type": "markdown",
   "metadata": {},
   "source": [
    "Now we compute the centers of the embeddings."
   ]
  },
  {
   "cell_type": "code",
   "execution_count": 79,
   "metadata": {},
   "outputs": [],
   "source": [
    "centers = list()\n",
    "for embedding in umap_embeddings:\n",
    "    centers.append([np.mean(embedding[:, 0]), np.mean(embedding[:, 1])])"
   ]
  },
  {
   "cell_type": "code",
   "execution_count": 80,
   "metadata": {},
   "outputs": [
    {
     "name": "stdout",
     "output_type": "stream",
     "text": [
      "66\n",
      "2\n"
     ]
    }
   ],
   "source": [
    "print(len(centers))\n",
    "print(len(centers[0]))"
   ]
  },
  {
   "attachments": {},
   "cell_type": "markdown",
   "metadata": {},
   "source": [
    "We can plot a scatterplot of the centers to see the clusters."
   ]
  },
  {
   "cell_type": "code",
   "execution_count": 81,
   "metadata": {},
   "outputs": [
    {
     "data": {
      "text/plain": [
       "(66, 2)"
      ]
     },
     "execution_count": 81,
     "metadata": {},
     "output_type": "execute_result"
    }
   ],
   "source": [
    "new_centers = np.array(centers, dtype=object)\n",
    "new_centers.shape"
   ]
  },
  {
   "cell_type": "code",
   "execution_count": 82,
   "metadata": {},
   "outputs": [
    {
     "data": {
      "image/png": "[encoded data removed]",
      "text/plain": [
       "<Figure size 1200x800 with 1 Axes>"
      ]
     },
     "metadata": {},
     "output_type": "display_data"
    }
   ],
   "source": [
    "import matplotlib.pyplot as plt\n",
    "\n",
    "plt.figure(figsize=(12,8))\n",
    "plt.scatter(new_centers[:,0], new_centers[:,1], s=6, c='blue')\n",
    "plt.show()"
   ]
  },
  {
   "cell_type": "code",
   "execution_count": 83,
   "metadata": {},
   "outputs": [
    {
     "data": {
      "image/png": "[encoded data removed]",
      "text/plain": [
       "<Figure size 1200x800 with 1 Axes>"
      ]
     },
     "metadata": {},
     "output_type": "display_data"
    }
   ],
   "source": [
    "# Let's apply k-means clustering with k=2\n",
    "from sklearn.cluster import KMeans\n",
    "kmeans = KMeans(n_clusters=2, random_state=0).fit(new_centers)\n",
    "\n",
    "# Let's plot the clusters\n",
    "plt.figure(figsize=(12,8))\n",
    "plt.scatter(new_centers[:,0], new_centers[:,1], c=kmeans.labels_, cmap='viridis')\n",
    "plt.legend(handles=plt.scatter(new_centers[:, 0], new_centers[:, 1], c=kmeans.labels_, cmap='viridis').legend_elements()[0], labels=['Koenig', 'Noda'])\n",
    "plt.show()"
   ]
  },
  {
   "cell_type": "code",
   "execution_count": 85,
   "metadata": {},
   "outputs": [
    {
     "name": "stdout",
     "output_type": "stream",
     "text": [
      "Paper ID: 1\n",
      "Title: Simplifying quantum double Hamiltonians using perturbative gadgets\n",
      "--------------------------------------------------\n",
      "Paper ID: 2\n",
      "Title: Composite anyon coding and the initialization of a topological quantum\n",
      "  computer\n",
      "--------------------------------------------------\n",
      "Paper ID: 3\n",
      "Title: On Exchangeable Continuous Variable Systems\n",
      "--------------------------------------------------\n",
      "Paper ID: 4\n",
      "Title: A most compendious and facile quantum de Finetti theorem\n",
      "--------------------------------------------------\n",
      "Paper ID: 5\n",
      "Title: Anyonic entanglement renormalization\n",
      "--------------------------------------------------\n",
      "Paper ID: 6\n",
      "Title: Classical simulation of dissipative fermionic linear optics\n",
      "--------------------------------------------------\n",
      "Paper ID: 7\n",
      "Title: Generating topological order: no speedup by dissipation\n",
      "--------------------------------------------------\n",
      "Paper ID: 8\n",
      "Title: Universally composable privacy amplification against quantum adversaries\n",
      "--------------------------------------------------\n",
      "Paper ID: 9\n",
      "Title: Disorder-assisted error correction in Majorana chains\n",
      "--------------------------------------------------\n",
      "Paper ID: 10\n",
      "Title: The entropy power inequality for quantum systems\n",
      "--------------------------------------------------\n",
      "Paper ID: 11\n",
      "Title: Continuum limits of homogeneous binary trees and the Thompson group\n",
      "--------------------------------------------------\n",
      "Paper ID: 12\n",
      "Title: A Solution to Schroeder's Equation in Several Variables\n",
      "--------------------------------------------------\n",
      "Paper ID: 13\n",
      "Title: The Bounded Storage Model in The Presence of a Quantum Adversary\n",
      "--------------------------------------------------\n",
      "Paper ID: 14\n",
      "Title: Post-selection technique for quantum channels with applications to\n",
      "  quantum cryptography\n",
      "--------------------------------------------------\n",
      "Paper ID: 15\n",
      "Title: An optimal dissipative encoder for the toric code\n",
      "--------------------------------------------------\n",
      "Paper ID: 16\n",
      "Title: Matrix product approximations to conformal field theories\n",
      "--------------------------------------------------\n",
      "Paper ID: 17\n",
      "Title: Correcting coherent errors with surface codes\n",
      "--------------------------------------------------\n",
      "Paper ID: 18\n",
      "Title: Sampling of min-entropy relative to quantum knowledge\n",
      "--------------------------------------------------\n",
      "Paper ID: 19\n",
      "Title: A strong converse for classical channel coding using entangled inputs\n",
      "--------------------------------------------------\n",
      "Paper ID: 20\n",
      "Title: Simplified instantaneous non-local quantum computation with applications\n",
      "  to position-based cryptography\n",
      "--------------------------------------------------\n",
      "Paper ID: 21\n",
      "Title: Limits on classical communication from quantum entropy power\n",
      "  inequalities\n",
      "--------------------------------------------------\n",
      "Paper ID: 22\n",
      "Title: Classification of topologically protected gates for local stabilizer\n",
      "  codes\n",
      "--------------------------------------------------\n",
      "Paper ID: 23\n",
      "Title: Coherent state coding approaches the capacity of non-Gaussian bosonic\n",
      "  channels\n",
      "--------------------------------------------------\n",
      "Paper ID: 24\n",
      "Title: Universal Uhrig dynamical decoupling for bosonic systems\n",
      "--------------------------------------------------\n",
      "Paper ID: 25\n",
      "Title: Typical entanglement for Gaussian states\n",
      "--------------------------------------------------\n",
      "Paper ID: 26\n",
      "Title: Generalized Log-Majorization and Multivariate Trace Inequalities\n",
      "--------------------------------------------------\n",
      "Paper ID: 27\n",
      "Title: Exact entanglement renormalization for string-net models\n",
      "--------------------------------------------------\n",
      "Paper ID: 28\n",
      "Title: Approximation algorithms for quantum many-body problems\n",
      "--------------------------------------------------\n",
      "Paper ID: 29\n",
      "Title: Quantum computation with Turaev-Viro codes\n",
      "--------------------------------------------------\n",
      "Paper ID: 30\n",
      "Title: The Role of Tactile Sensing in Learning and Deploying Grasp Refinement\n",
      "  Algorithms\n",
      "--------------------------------------------------\n",
      "Paper ID: 31\n",
      "Title: Oscillator-to-oscillator codes do not have a threshold\n",
      "--------------------------------------------------\n",
      "Paper ID: 32\n",
      "Title: Approximating Turaev-Viro 3-manifold invariants is universal for quantum\n",
      "  computation\n",
      "--------------------------------------------------\n",
      "Paper ID: 33\n",
      "Title: One-and-a-half quantum de Finetti theorems\n",
      "--------------------------------------------------\n",
      "Paper ID: 34\n",
      "Title: Abstract Storage Devices\n",
      "--------------------------------------------------\n",
      "Paper ID: 35\n",
      "Title: Unconditional security from noisy quantum storage\n",
      "--------------------------------------------------\n",
      "Paper ID: 36\n",
      "Title: How to efficiently select an arbitrary Clifford group element\n",
      "--------------------------------------------------\n",
      "Paper ID: 37\n",
      "Title: Matrix product approximations to multipoint functions in two-dimensional\n",
      "  conformal field theory\n",
      "--------------------------------------------------\n",
      "Paper ID: 38\n",
      "Title: Preparing topologically ordered states by Hamiltonian interpolation\n",
      "--------------------------------------------------\n",
      "Paper ID: 39\n",
      "Title: Geometric inequalities from phase space translations\n",
      "--------------------------------------------------\n",
      "Paper ID: 40\n",
      "Title: Quantum advantage with shallow circuits\n",
      "--------------------------------------------------\n",
      "Paper ID: 41\n",
      "Title: Jointly constrained semidefinite bilinear programming with an\n",
      "  application to Dobrushin curves\n",
      "--------------------------------------------------\n",
      "Paper ID: 42\n",
      "Title: RTNI - A symbolic integrator for Haar-random tensor networks\n",
      "--------------------------------------------------\n",
      "Paper ID: 43\n",
      "Title: Obstacles to State Preparation and Variational Optimization from\n",
      "  Symmetry Protection\n",
      "--------------------------------------------------\n",
      "Paper ID: 44\n",
      "Title: Single-qubit gate teleportation provides a quantum advantage\n",
      "--------------------------------------------------\n",
      "Paper ID: 45\n",
      "Title: Protected gates for topological quantum field theories\n",
      "--------------------------------------------------\n",
      "Paper ID: 46\n",
      "Title: On the Power of Quantum Memory\n",
      "--------------------------------------------------\n",
      "Paper ID: 47\n",
      "Title: The operational meaning of min- and max-entropy\n",
      "--------------------------------------------------\n",
      "Paper ID: 48\n",
      "Title: Quantum Error-Detection at Low Energies\n",
      "--------------------------------------------------\n",
      "Paper ID: 49\n",
      "Title: Quantum advantage with noisy shallow circuits in 3D\n",
      "--------------------------------------------------\n",
      "Paper ID: 50\n",
      "Title: Enhanced noise resilience of the surface-GKP code via designed bias\n",
      "--------------------------------------------------\n",
      "Paper ID: 51\n",
      "Title: Hybrid quantum-classical algorithms for approximate graph coloring\n",
      "--------------------------------------------------\n",
      "Paper ID: 52\n",
      "Title: Twisted hybrid algorithms for combinatorial optimization\n",
      "--------------------------------------------------\n",
      "Paper ID: 53\n",
      "Title: Adaptive constant-depth circuits for manipulating non-abelian anyons\n",
      "--------------------------------------------------\n",
      "Paper ID: 54\n",
      "Title: Estimating the Time-Varying Structures of the Fama-French Multi-Factor\n",
      "  Models\n",
      "--------------------------------------------------\n",
      "Paper ID: 55\n",
      "Title: A Test of the Adaptive Market Hypothesis using a Time-Varying AR Model\n",
      "  in Japan\n",
      "--------------------------------------------------\n",
      "Paper ID: 56\n",
      "Title: On the Evolution of Cryptocurrency Market Efficiency\n",
      "--------------------------------------------------\n",
      "Paper ID: 57\n",
      "Title: Examining the Dynamic Asset Market Linkages under the COVID-19 Global\n",
      "  Pandemic\n",
      "--------------------------------------------------\n",
      "Paper ID: 58\n",
      "Title: Measuring the Time-Varying Market Efficiency in the Prewar Japanese\n",
      "  Stock Market, 1924-1943\n",
      "--------------------------------------------------\n",
      "Paper ID: 59\n",
      "Title: On the Time-Varying Structure of the Arbitrage Pricing Theory using the\n",
      "  Japanese Sector Indices\n",
      "--------------------------------------------------\n",
      "Paper ID: 60\n",
      "Title: Evaluating the Financial Market Function in Prewar Japan using a\n",
      "  Time-Varying Parameter Model\n",
      "--------------------------------------------------\n",
      "Paper ID: 61\n",
      "Title: The Futures Premium and Rice Market Efficiency in Prewar Japan\n",
      "--------------------------------------------------\n",
      "Paper ID: 62\n",
      "Title: Time-Varying Comovement of Foreign Exchange Markets\n",
      "--------------------------------------------------\n",
      "Paper ID: 63\n",
      "Title: Discretion versus Policy Rules in Futures Markets: A Case of the\n",
      "  Osaka-Dojima Rice Exchange, 1914-1939\n",
      "--------------------------------------------------\n",
      "Paper ID: 64\n",
      "Title: An Alternative Estimation Method of a Time-Varying Parameter Model\n",
      "--------------------------------------------------\n",
      "Paper ID: 65\n",
      "Title: The Evolution of Stock Market Efficiency in the US: A Non-Bayesian\n",
      "  Time-Varying Model Approach\n",
      "--------------------------------------------------\n",
      "Paper ID: 66\n",
      "Title: Market Efficiency and Government Interventions in Prewar Japanese Rice\n",
      "  Futures Markets\n",
      "--------------------------------------------------\n"
     ]
    }
   ],
   "source": [
    "for i, (embedding, paper) in enumerate(zip(umap_embeddings, valid_papers)):\n",
    "    print(f\"Paper ID: {i + 1}\")\n",
    "    print(f\"Title: {paper.split('.')[0]}\")\n",
    "    print(\"-\" * 50)"
   ]
  },
  {
   "cell_type": "code",
   "execution_count": null,
   "metadata": {},
   "outputs": [],
   "source": []
  }
 ],
 "metadata": {
  "kernelspec": {
   "display_name": "Python 3",
   "language": "python",
   "name": "python3"
  },
  "language_info": {
   "codemirror_mode": {
    "name": "ipython",
    "version": 3
   },
   "file_extension": ".py",
   "mimetype": "text/x-python",
   "name": "python",
   "nbconvert_exporter": "python",
   "pygments_lexer": "ipython3",
   "version": "3.8.16"
  },
  "orig_nbformat": 4
 },
 "nbformat": 4,
 "nbformat_minor": 2
}
